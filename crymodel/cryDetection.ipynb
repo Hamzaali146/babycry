{
  "cells": [
    {
      "cell_type": "code",
      "execution_count": null,
      "metadata": {
        "colab": {
          "base_uri": "https://localhost:8080/"
        },
        "id": "QkBiKynFdIWN",
        "outputId": "8e3f4e02-69f1-449d-e72c-ff531b869805"
      },
      "outputs": [
        {
          "output_type": "stream",
          "name": "stdout",
          "text": [
            "Collecting patool\n",
            "  Downloading patool-4.0.0-py2.py3-none-any.whl.metadata (4.5 kB)\n",
            "Downloading patool-4.0.0-py2.py3-none-any.whl (86 kB)\n",
            "\u001b[2K   \u001b[90m━━━━━━━━━━━━━━━━━━━━━━━━━━━━━━━━━━━━━━━━\u001b[0m \u001b[32m86.3/86.3 kB\u001b[0m \u001b[31m2.3 MB/s\u001b[0m eta \u001b[36m0:00:00\u001b[0m\n",
            "\u001b[?25hInstalling collected packages: patool\n",
            "Successfully installed patool-4.0.0\n",
            "Requirement already satisfied: scikit-learn in /usr/local/lib/python3.11/dist-packages (1.6.1)\n",
            "Requirement already satisfied: numpy>=1.19.5 in /usr/local/lib/python3.11/dist-packages (from scikit-learn) (1.26.4)\n",
            "Requirement already satisfied: scipy>=1.6.0 in /usr/local/lib/python3.11/dist-packages (from scikit-learn) (1.13.1)\n",
            "Requirement already satisfied: joblib>=1.2.0 in /usr/local/lib/python3.11/dist-packages (from scikit-learn) (1.4.2)\n",
            "Requirement already satisfied: threadpoolctl>=3.1.0 in /usr/local/lib/python3.11/dist-packages (from scikit-learn) (3.5.0)\n",
            "Collecting langchain_groq\n",
            "  Downloading langchain_groq-0.2.4-py3-none-any.whl.metadata (3.0 kB)\n",
            "Collecting groq<1,>=0.4.1 (from langchain_groq)\n",
            "  Downloading groq-0.18.0-py3-none-any.whl.metadata (14 kB)\n",
            "Requirement already satisfied: langchain-core<0.4.0,>=0.3.33 in /usr/local/lib/python3.11/dist-packages (from langchain_groq) (0.3.40)\n",
            "Requirement already satisfied: anyio<5,>=3.5.0 in /usr/local/lib/python3.11/dist-packages (from groq<1,>=0.4.1->langchain_groq) (3.7.1)\n",
            "Requirement already satisfied: distro<2,>=1.7.0 in /usr/local/lib/python3.11/dist-packages (from groq<1,>=0.4.1->langchain_groq) (1.9.0)\n",
            "Requirement already satisfied: httpx<1,>=0.23.0 in /usr/local/lib/python3.11/dist-packages (from groq<1,>=0.4.1->langchain_groq) (0.28.1)\n",
            "Requirement already satisfied: pydantic<3,>=1.9.0 in /usr/local/lib/python3.11/dist-packages (from groq<1,>=0.4.1->langchain_groq) (2.10.6)\n",
            "Requirement already satisfied: sniffio in /usr/local/lib/python3.11/dist-packages (from groq<1,>=0.4.1->langchain_groq) (1.3.1)\n",
            "Requirement already satisfied: typing-extensions<5,>=4.10 in /usr/local/lib/python3.11/dist-packages (from groq<1,>=0.4.1->langchain_groq) (4.12.2)\n",
            "Requirement already satisfied: langsmith<0.4,>=0.1.125 in /usr/local/lib/python3.11/dist-packages (from langchain-core<0.4.0,>=0.3.33->langchain_groq) (0.3.11)\n",
            "Requirement already satisfied: tenacity!=8.4.0,<10.0.0,>=8.1.0 in /usr/local/lib/python3.11/dist-packages (from langchain-core<0.4.0,>=0.3.33->langchain_groq) (9.0.0)\n",
            "Requirement already satisfied: jsonpatch<2.0,>=1.33 in /usr/local/lib/python3.11/dist-packages (from langchain-core<0.4.0,>=0.3.33->langchain_groq) (1.33)\n",
            "Requirement already satisfied: PyYAML>=5.3 in /usr/local/lib/python3.11/dist-packages (from langchain-core<0.4.0,>=0.3.33->langchain_groq) (6.0.2)\n",
            "Requirement already satisfied: packaging<25,>=23.2 in /usr/local/lib/python3.11/dist-packages (from langchain-core<0.4.0,>=0.3.33->langchain_groq) (24.2)\n",
            "Requirement already satisfied: idna>=2.8 in /usr/local/lib/python3.11/dist-packages (from anyio<5,>=3.5.0->groq<1,>=0.4.1->langchain_groq) (3.10)\n",
            "Requirement already satisfied: certifi in /usr/local/lib/python3.11/dist-packages (from httpx<1,>=0.23.0->groq<1,>=0.4.1->langchain_groq) (2025.1.31)\n",
            "Requirement already satisfied: httpcore==1.* in /usr/local/lib/python3.11/dist-packages (from httpx<1,>=0.23.0->groq<1,>=0.4.1->langchain_groq) (1.0.7)\n",
            "Requirement already satisfied: h11<0.15,>=0.13 in /usr/local/lib/python3.11/dist-packages (from httpcore==1.*->httpx<1,>=0.23.0->groq<1,>=0.4.1->langchain_groq) (0.14.0)\n",
            "Requirement already satisfied: jsonpointer>=1.9 in /usr/local/lib/python3.11/dist-packages (from jsonpatch<2.0,>=1.33->langchain-core<0.4.0,>=0.3.33->langchain_groq) (3.0.0)\n",
            "Requirement already satisfied: orjson<4.0.0,>=3.9.14 in /usr/local/lib/python3.11/dist-packages (from langsmith<0.4,>=0.1.125->langchain-core<0.4.0,>=0.3.33->langchain_groq) (3.10.15)\n",
            "Requirement already satisfied: requests<3,>=2 in /usr/local/lib/python3.11/dist-packages (from langsmith<0.4,>=0.1.125->langchain-core<0.4.0,>=0.3.33->langchain_groq) (2.32.3)\n",
            "Requirement already satisfied: requests-toolbelt<2.0.0,>=1.0.0 in /usr/local/lib/python3.11/dist-packages (from langsmith<0.4,>=0.1.125->langchain-core<0.4.0,>=0.3.33->langchain_groq) (1.0.0)\n",
            "Requirement already satisfied: zstandard<0.24.0,>=0.23.0 in /usr/local/lib/python3.11/dist-packages (from langsmith<0.4,>=0.1.125->langchain-core<0.4.0,>=0.3.33->langchain_groq) (0.23.0)\n",
            "Requirement already satisfied: annotated-types>=0.6.0 in /usr/local/lib/python3.11/dist-packages (from pydantic<3,>=1.9.0->groq<1,>=0.4.1->langchain_groq) (0.7.0)\n",
            "Requirement already satisfied: pydantic-core==2.27.2 in /usr/local/lib/python3.11/dist-packages (from pydantic<3,>=1.9.0->groq<1,>=0.4.1->langchain_groq) (2.27.2)\n",
            "Requirement already satisfied: charset-normalizer<4,>=2 in /usr/local/lib/python3.11/dist-packages (from requests<3,>=2->langsmith<0.4,>=0.1.125->langchain-core<0.4.0,>=0.3.33->langchain_groq) (3.4.1)\n",
            "Requirement already satisfied: urllib3<3,>=1.21.1 in /usr/local/lib/python3.11/dist-packages (from requests<3,>=2->langsmith<0.4,>=0.1.125->langchain-core<0.4.0,>=0.3.33->langchain_groq) (2.3.0)\n",
            "Downloading langchain_groq-0.2.4-py3-none-any.whl (14 kB)\n",
            "Downloading groq-0.18.0-py3-none-any.whl (121 kB)\n",
            "\u001b[2K   \u001b[90m━━━━━━━━━━━━━━━━━━━━━━━━━━━━━━━━━━━━━━━━\u001b[0m \u001b[32m121.9/121.9 kB\u001b[0m \u001b[31m2.9 MB/s\u001b[0m eta \u001b[36m0:00:00\u001b[0m\n",
            "\u001b[?25hInstalling collected packages: groq, langchain_groq\n",
            "Successfully installed groq-0.18.0 langchain_groq-0.2.4\n",
            "Requirement already satisfied: pandas in /usr/local/lib/python3.11/dist-packages (2.2.2)\n",
            "Requirement already satisfied: numpy>=1.23.2 in /usr/local/lib/python3.11/dist-packages (from pandas) (1.26.4)\n",
            "Requirement already satisfied: python-dateutil>=2.8.2 in /usr/local/lib/python3.11/dist-packages (from pandas) (2.8.2)\n",
            "Requirement already satisfied: pytz>=2020.1 in /usr/local/lib/python3.11/dist-packages (from pandas) (2025.1)\n",
            "Requirement already satisfied: tzdata>=2022.7 in /usr/local/lib/python3.11/dist-packages (from pandas) (2025.1)\n",
            "Requirement already satisfied: six>=1.5 in /usr/local/lib/python3.11/dist-packages (from python-dateutil>=2.8.2->pandas) (1.17.0)\n",
            "Requirement already satisfied: langchain in /usr/local/lib/python3.11/dist-packages (0.3.19)\n",
            "Requirement already satisfied: langchain-core<1.0.0,>=0.3.35 in /usr/local/lib/python3.11/dist-packages (from langchain) (0.3.40)\n",
            "Requirement already satisfied: langchain-text-splitters<1.0.0,>=0.3.6 in /usr/local/lib/python3.11/dist-packages (from langchain) (0.3.6)\n",
            "Requirement already satisfied: langsmith<0.4,>=0.1.17 in /usr/local/lib/python3.11/dist-packages (from langchain) (0.3.11)\n",
            "Requirement already satisfied: pydantic<3.0.0,>=2.7.4 in /usr/local/lib/python3.11/dist-packages (from langchain) (2.10.6)\n",
            "Requirement already satisfied: SQLAlchemy<3,>=1.4 in /usr/local/lib/python3.11/dist-packages (from langchain) (2.0.38)\n",
            "Requirement already satisfied: requests<3,>=2 in /usr/local/lib/python3.11/dist-packages (from langchain) (2.32.3)\n",
            "Requirement already satisfied: PyYAML>=5.3 in /usr/local/lib/python3.11/dist-packages (from langchain) (6.0.2)\n",
            "Requirement already satisfied: aiohttp<4.0.0,>=3.8.3 in /usr/local/lib/python3.11/dist-packages (from langchain) (3.11.13)\n",
            "Requirement already satisfied: tenacity!=8.4.0,<10,>=8.1.0 in /usr/local/lib/python3.11/dist-packages (from langchain) (9.0.0)\n",
            "Requirement already satisfied: numpy<2,>=1.26.4 in /usr/local/lib/python3.11/dist-packages (from langchain) (1.26.4)\n",
            "Requirement already satisfied: aiohappyeyeballs>=2.3.0 in /usr/local/lib/python3.11/dist-packages (from aiohttp<4.0.0,>=3.8.3->langchain) (2.4.6)\n",
            "Requirement already satisfied: aiosignal>=1.1.2 in /usr/local/lib/python3.11/dist-packages (from aiohttp<4.0.0,>=3.8.3->langchain) (1.3.2)\n",
            "Requirement already satisfied: attrs>=17.3.0 in /usr/local/lib/python3.11/dist-packages (from aiohttp<4.0.0,>=3.8.3->langchain) (25.1.0)\n",
            "Requirement already satisfied: frozenlist>=1.1.1 in /usr/local/lib/python3.11/dist-packages (from aiohttp<4.0.0,>=3.8.3->langchain) (1.5.0)\n",
            "Requirement already satisfied: multidict<7.0,>=4.5 in /usr/local/lib/python3.11/dist-packages (from aiohttp<4.0.0,>=3.8.3->langchain) (6.1.0)\n",
            "Requirement already satisfied: propcache>=0.2.0 in /usr/local/lib/python3.11/dist-packages (from aiohttp<4.0.0,>=3.8.3->langchain) (0.3.0)\n",
            "Requirement already satisfied: yarl<2.0,>=1.17.0 in /usr/local/lib/python3.11/dist-packages (from aiohttp<4.0.0,>=3.8.3->langchain) (1.18.3)\n",
            "Requirement already satisfied: jsonpatch<2.0,>=1.33 in /usr/local/lib/python3.11/dist-packages (from langchain-core<1.0.0,>=0.3.35->langchain) (1.33)\n",
            "Requirement already satisfied: packaging<25,>=23.2 in /usr/local/lib/python3.11/dist-packages (from langchain-core<1.0.0,>=0.3.35->langchain) (24.2)\n",
            "Requirement already satisfied: typing-extensions>=4.7 in /usr/local/lib/python3.11/dist-packages (from langchain-core<1.0.0,>=0.3.35->langchain) (4.12.2)\n",
            "Requirement already satisfied: httpx<1,>=0.23.0 in /usr/local/lib/python3.11/dist-packages (from langsmith<0.4,>=0.1.17->langchain) (0.28.1)\n",
            "Requirement already satisfied: orjson<4.0.0,>=3.9.14 in /usr/local/lib/python3.11/dist-packages (from langsmith<0.4,>=0.1.17->langchain) (3.10.15)\n",
            "Requirement already satisfied: requests-toolbelt<2.0.0,>=1.0.0 in /usr/local/lib/python3.11/dist-packages (from langsmith<0.4,>=0.1.17->langchain) (1.0.0)\n",
            "Requirement already satisfied: zstandard<0.24.0,>=0.23.0 in /usr/local/lib/python3.11/dist-packages (from langsmith<0.4,>=0.1.17->langchain) (0.23.0)\n",
            "Requirement already satisfied: annotated-types>=0.6.0 in /usr/local/lib/python3.11/dist-packages (from pydantic<3.0.0,>=2.7.4->langchain) (0.7.0)\n",
            "Requirement already satisfied: pydantic-core==2.27.2 in /usr/local/lib/python3.11/dist-packages (from pydantic<3.0.0,>=2.7.4->langchain) (2.27.2)\n",
            "Requirement already satisfied: charset-normalizer<4,>=2 in /usr/local/lib/python3.11/dist-packages (from requests<3,>=2->langchain) (3.4.1)\n",
            "Requirement already satisfied: idna<4,>=2.5 in /usr/local/lib/python3.11/dist-packages (from requests<3,>=2->langchain) (3.10)\n",
            "Requirement already satisfied: urllib3<3,>=1.21.1 in /usr/local/lib/python3.11/dist-packages (from requests<3,>=2->langchain) (2.3.0)\n",
            "Requirement already satisfied: certifi>=2017.4.17 in /usr/local/lib/python3.11/dist-packages (from requests<3,>=2->langchain) (2025.1.31)\n",
            "Requirement already satisfied: greenlet!=0.4.17 in /usr/local/lib/python3.11/dist-packages (from SQLAlchemy<3,>=1.4->langchain) (3.1.1)\n",
            "Requirement already satisfied: anyio in /usr/local/lib/python3.11/dist-packages (from httpx<1,>=0.23.0->langsmith<0.4,>=0.1.17->langchain) (3.7.1)\n",
            "Requirement already satisfied: httpcore==1.* in /usr/local/lib/python3.11/dist-packages (from httpx<1,>=0.23.0->langsmith<0.4,>=0.1.17->langchain) (1.0.7)\n",
            "Requirement already satisfied: h11<0.15,>=0.13 in /usr/local/lib/python3.11/dist-packages (from httpcore==1.*->httpx<1,>=0.23.0->langsmith<0.4,>=0.1.17->langchain) (0.14.0)\n",
            "Requirement already satisfied: jsonpointer>=1.9 in /usr/local/lib/python3.11/dist-packages (from jsonpatch<2.0,>=1.33->langchain-core<1.0.0,>=0.3.35->langchain) (3.0.0)\n",
            "Requirement already satisfied: sniffio>=1.1 in /usr/local/lib/python3.11/dist-packages (from anyio->httpx<1,>=0.23.0->langsmith<0.4,>=0.1.17->langchain) (1.3.1)\n"
          ]
        }
      ],
      "source": [
        "!pip install patool\n",
        "!pip install scikit-learn\n",
        "!pip install langchain_groq\n",
        "!pip install pandas\n",
        "!pip install langchain\n",
        "import tensorflow_hub as hub\n",
        "import librosa\n",
        "import librosa.display\n",
        "import numpy as np\n",
        "import patoolib\n",
        "from tensorflow.keras.utils import to_categorical\n",
        "from sklearn.model_selection import train_test_split\n",
        "import matplotlib.pyplot as plt\n",
        "import tensorflow as tf\n",
        "from tensorflow.keras.models import Sequential\n",
        "from tensorflow.keras.layers import Conv2D, MaxPooling2D, Flatten, Dense"
      ]
    },
    {
      "cell_type": "code",
      "execution_count": null,
      "metadata": {
        "colab": {
          "base_uri": "https://localhost:8080/",
          "height": 410
        },
        "id": "O-x5xxICdfby",
        "outputId": "edd0c915-8551-40d4-85d5-fd06bc0e4a4d"
      },
      "outputs": [
        {
          "output_type": "display_data",
          "data": {
            "text/plain": [
              "<Figure size 1000x400 with 2 Axes>"
            ],
            "image/png": "[encoded data removed]"
          },
          "metadata": {}
        }
      ],
      "source": [
        "file_path = \"azka_cry.wav\"\n",
        "y, sr = librosa.load(file_path, sr=16000)\n",
        "\n",
        "mfccs = librosa.feature.mfcc(y=y, sr=sr, n_mfcc=13)\n",
        "\n",
        "plt.figure(figsize=(10, 4))\n",
        "librosa.display.specshow(mfccs, x_axis='time')\n",
        "plt.colorbar()\n",
        "plt.title('MFCCs of Azka Cry')\n",
        "plt.show()\n"
      ]
    },
    {
      "cell_type": "code",
      "execution_count": null,
      "metadata": {
        "colab": {
          "base_uri": "https://localhost:8080/"
        },
        "id": "r-zRgDFyd3f8",
        "outputId": "40df2b01-5ea9-4762-b573-5879152239c5"
      },
      "outputs": [
        {
          "output_type": "stream",
          "name": "stderr",
          "text": [
            "/usr/local/lib/python3.11/dist-packages/keras/src/layers/convolutional/base_conv.py:107: UserWarning: Do not pass an `input_shape`/`input_dim` argument to a layer. When using Sequential models, prefer using an `Input(shape)` object as the first layer in the model instead.\n",
            "  super().__init__(activity_regularizer=activity_regularizer, **kwargs)\n"
          ]
        }
      ],
      "source": [
        "model = Sequential([\n",
        "    Conv2D(32, (3, 3), activation='relu', input_shape=(128, 128, 1)),\n",
        "    MaxPooling2D((2, 2)),\n",
        "    Conv2D(64, (3, 3), activation='relu'),\n",
        "    MaxPooling2D((2, 2)),\n",
        "    Flatten(),\n",
        "    Dense(128, activation='relu'),\n",
        "    Dense(5, activation='softmax')\n",
        "])\n",
        "\n",
        "model.compile(optimizer='adam', loss='categorical_crossentropy', metrics=['accuracy'])\n"
      ]
    },
    {
      "cell_type": "code",
      "execution_count": null,
      "metadata": {
        "colab": {
          "base_uri": "https://localhost:8080/",
          "height": 452
        },
        "id": "YTGheCxidmjp",
        "outputId": "5e39a724-4a0b-4e5e-b7cd-86d7045c3c23"
      },
      "outputs": [
        {
          "output_type": "display_data",
          "data": {
            "text/plain": [
              "<Figure size 500x500 with 2 Axes>"
            ],
            "image/png": "[encoded data removed]"
          },
          "metadata": {}
        }
      ],
      "source": [
        "import librosa\n",
        "import librosa.display\n",
        "import numpy as np\n",
        "import matplotlib.pyplot as plt\n",
        "import os\n",
        "import cv2\n",
        "\n",
        "def audio_to_spectrogram(audio_path, target_size=(128, 128)):\n",
        "    y, sr = librosa.load(audio_path, sr=16000)\n",
        "    mel_spec = librosa.feature.melspectrogram(y=y, sr=sr)\n",
        "    mel_spec_db = librosa.power_to_db(mel_spec, ref=np.max)\n",
        "\n",
        "    img = cv2.resize(mel_spec_db, target_size)\n",
        "\n",
        "    return img\n",
        "\n",
        "sample_path = \"azka_cry.wav\"\n",
        "spectrogram = audio_to_spectrogram(sample_path)\n",
        "\n",
        "plt.figure(figsize=(5, 5))\n",
        "librosa.display.specshow(spectrogram, cmap='inferno')\n",
        "plt.colorbar()\n",
        "plt.title(\"Mel Spectrogram of Azka\")\n",
        "plt.show()\n"
      ]
    },
    {
      "cell_type": "code",
      "execution_count": null,
      "metadata": {
        "colab": {
          "base_uri": "https://localhost:8080/"
        },
        "id": "2jINhu--gNoc",
        "outputId": "c1ec8997-e4ce-40f5-a142-13cccb83f602"
      },
      "outputs": [
        {
          "name": "stdout",
          "output_type": "stream",
          "text": [
            "Warning: Looks like you're using an outdated `kagglehub` version (installed: 0.3.7), please consider upgrading to the latest version (0.3.8).\n",
            "Downloading from https://www.kaggle.com/api/v1/datasets/download/warcoder/infant-cry-audio-corpus?dataset_version_number=1...\n"
          ]
        },
        {
          "name": "stderr",
          "output_type": "stream",
          "text": [
            "100%|██████████| 39.0M/39.0M [00:00<00:00, 72.0MB/s]"
          ]
        },
        {
          "name": "stdout",
          "output_type": "stream",
          "text": [
            "Extracting files...\n"
          ]
        },
        {
          "name": "stderr",
          "output_type": "stream",
          "text": [
            "\n"
          ]
        },
        {
          "name": "stdout",
          "output_type": "stream",
          "text": [
            "Path to dataset files: /root/.cache/kagglehub/datasets/warcoder/infant-cry-audio-corpus/versions/1\n"
          ]
        }
      ],
      "source": [
        "import kagglehub\n",
        "\n",
        "path = kagglehub.dataset_download(\"warcoder/infant-cry-audio-corpus\")\n",
        "\n",
        "print(\"Path to dataset files:\", path)"
      ]
    },
    {
      "cell_type": "code",
      "execution_count": null,
      "metadata": {
        "colab": {
          "base_uri": "https://localhost:8080/",
          "height": 140
        },
        "id": "rLR8vjXAh6M9",
        "outputId": "5d8261de-f4ec-4d13-dd53-e30e1f766deb"
      },
      "outputs": [
        {
          "output_type": "stream",
          "name": "stderr",
          "text": [
            "INFO patool: Extracting archive (5).zip ...\n",
            "INFO:patool:Extracting archive (5).zip ...\n",
            "INFO patool: running /usr/bin/7z x -aou -o./Unpack_x9hcgrbp -- \"archive (5).zip\"\n",
            "INFO:patool:running /usr/bin/7z x -aou -o./Unpack_x9hcgrbp -- \"archive (5).zip\"\n",
            "INFO patool: ... archive (5).zip extracted to `donateacry_corpus'.\n",
            "INFO:patool:... archive (5).zip extracted to `donateacry_corpus'.\n"
          ]
        },
        {
          "output_type": "execute_result",
          "data": {
            "text/plain": [
              "'donateacry_corpus'"
            ],
            "application/vnd.google.colaboratory.intrinsic+json": {
              "type": "string"
            }
          },
          "metadata": {},
          "execution_count": 6
        }
      ],
      "source": [
        "patoolib.extract_archive(\"archive (5).zip\")"
      ]
    },
    {
      "cell_type": "code",
      "execution_count": null,
      "metadata": {
        "colab": {
          "base_uri": "https://localhost:8080/"
        },
        "id": "x7dMZvvzgk4H",
        "outputId": "94354911-ee45-4167-a284-93c471948f31"
      },
      "outputs": [
        {
          "output_type": "stream",
          "name": "stdout",
          "text": [
            "Training samples: 365, Validation samples: 92\n"
          ]
        }
      ],
      "source": [
        "\n",
        "categories = [\"belly_pain\", \"burping\", \"hungry\", \"discomfort\",\"tired\"]\n",
        "num_classes = len(categories)\n",
        "\n",
        "dataset_path = \"donateacry_corpus\"\n",
        "\n",
        "X, y = [], []\n",
        "\n",
        "for label in categories:\n",
        "    folder_path = os.path.join(dataset_path, label)\n",
        "\n",
        "    for file_name in os.listdir(folder_path):\n",
        "        if file_name.endswith(\".wav\"):\n",
        "            file_path = os.path.join(folder_path, file_name)\n",
        "            spectrogram = audio_to_spectrogram(file_path)\n",
        "\n",
        "            X.append(spectrogram)\n",
        "            y.append(categories.index(label))\n",
        "\n",
        "X = np.array(X).reshape(-1, 128, 128, 1)\n",
        "X = X / 255.0\n",
        "y = to_categorical(y, num_classes=num_classes)\n",
        "\n",
        "\n",
        "X_train, X_val, y_train, y_val = train_test_split(X, y, test_size=0.2, random_state=42)\n",
        "\n",
        "print(f\"Training samples: {len(X_train)}, Validation samples: {len(X_val)}\")\n"
      ]
    },
    {
      "cell_type": "code",
      "execution_count": null,
      "metadata": {
        "colab": {
          "base_uri": "https://localhost:8080/"
        },
        "id": "89LniauegvWT",
        "outputId": "ff3c7cce-1933-4782-ca6b-74a8b77da025"
      },
      "outputs": [
        {
          "output_type": "execute_result",
          "data": {
            "text/plain": [
              "array([[[[-0.3137255 ],\n",
              "         [-0.3137255 ],\n",
              "         [-0.3137255 ],\n",
              "         ...,\n",
              "         [-0.24444091],\n",
              "         [-0.21739866],\n",
              "         [-0.18798666]],\n",
              "\n",
              "        [[-0.3137255 ],\n",
              "         [-0.3137255 ],\n",
              "         [-0.3137255 ],\n",
              "         ...,\n",
              "         [-0.22114424],\n",
              "         [-0.19514295],\n",
              "         [-0.18121345]],\n",
              "\n",
              "        [[-0.3137255 ],\n",
              "         [-0.3137255 ],\n",
              "         [-0.3137255 ],\n",
              "         ...,\n",
              "         [-0.21942395],\n",
              "         [-0.20759492],\n",
              "         [-0.18669425]],\n",
              "\n",
              "        ...,\n",
              "\n",
              "        [[-0.3137255 ],\n",
              "         [-0.3137255 ],\n",
              "         [-0.3137255 ],\n",
              "         ...,\n",
              "         [-0.3137255 ],\n",
              "         [-0.3137255 ],\n",
              "         [-0.3137255 ]],\n",
              "\n",
              "        [[-0.3137255 ],\n",
              "         [-0.3137255 ],\n",
              "         [-0.3137255 ],\n",
              "         ...,\n",
              "         [-0.3137255 ],\n",
              "         [-0.3137255 ],\n",
              "         [-0.3137255 ]],\n",
              "\n",
              "        [[-0.3137255 ],\n",
              "         [-0.3137255 ],\n",
              "         [-0.3137255 ],\n",
              "         ...,\n",
              "         [-0.3137255 ],\n",
              "         [-0.3137255 ],\n",
              "         [-0.3137255 ]]],\n",
              "\n",
              "\n",
              "       [[[-0.3137255 ],\n",
              "         [-0.3137255 ],\n",
              "         [-0.3137255 ],\n",
              "         ...,\n",
              "         [-0.26541167],\n",
              "         [-0.24091513],\n",
              "         [-0.2536086 ]],\n",
              "\n",
              "        [[-0.3137255 ],\n",
              "         [-0.3137255 ],\n",
              "         [-0.3137255 ],\n",
              "         ...,\n",
              "         [-0.2395449 ],\n",
              "         [-0.19929999],\n",
              "         [-0.22315872]],\n",
              "\n",
              "        [[-0.3137255 ],\n",
              "         [-0.3137255 ],\n",
              "         [-0.3137255 ],\n",
              "         ...,\n",
              "         [-0.21275589],\n",
              "         [-0.1886442 ],\n",
              "         [-0.21426053]],\n",
              "\n",
              "        ...,\n",
              "\n",
              "        [[-0.3137255 ],\n",
              "         [-0.3137255 ],\n",
              "         [-0.3137255 ],\n",
              "         ...,\n",
              "         [-0.3137255 ],\n",
              "         [-0.3137255 ],\n",
              "         [-0.3137255 ]],\n",
              "\n",
              "        [[-0.3137255 ],\n",
              "         [-0.3137255 ],\n",
              "         [-0.3137255 ],\n",
              "         ...,\n",
              "         [-0.3137255 ],\n",
              "         [-0.3137255 ],\n",
              "         [-0.3137255 ]],\n",
              "\n",
              "        [[-0.3137255 ],\n",
              "         [-0.3137255 ],\n",
              "         [-0.3137255 ],\n",
              "         ...,\n",
              "         [-0.3137255 ],\n",
              "         [-0.3137255 ],\n",
              "         [-0.3137255 ]]],\n",
              "\n",
              "\n",
              "       [[[-0.25949386],\n",
              "         [-0.25778836],\n",
              "         [-0.24172068],\n",
              "         ...,\n",
              "         [-0.19108394],\n",
              "         [-0.19137715],\n",
              "         [-0.19179347]],\n",
              "\n",
              "        [[-0.23344472],\n",
              "         [-0.24213715],\n",
              "         [-0.23513663],\n",
              "         ...,\n",
              "         [-0.15262862],\n",
              "         [-0.13608165],\n",
              "         [-0.14609048]],\n",
              "\n",
              "        [[-0.20919219],\n",
              "         [-0.22217539],\n",
              "         [-0.20712323],\n",
              "         ...,\n",
              "         [-0.1516504 ],\n",
              "         [-0.14035589],\n",
              "         [-0.13353656]],\n",
              "\n",
              "        ...,\n",
              "\n",
              "        [[-0.3137255 ],\n",
              "         [-0.3137255 ],\n",
              "         [-0.3137255 ],\n",
              "         ...,\n",
              "         [-0.3137255 ],\n",
              "         [-0.3137255 ],\n",
              "         [-0.3137255 ]],\n",
              "\n",
              "        [[-0.3137255 ],\n",
              "         [-0.3137255 ],\n",
              "         [-0.3137255 ],\n",
              "         ...,\n",
              "         [-0.3137255 ],\n",
              "         [-0.3137255 ],\n",
              "         [-0.3137255 ]],\n",
              "\n",
              "        [[-0.3137255 ],\n",
              "         [-0.3137255 ],\n",
              "         [-0.3137255 ],\n",
              "         ...,\n",
              "         [-0.3137255 ],\n",
              "         [-0.3137255 ],\n",
              "         [-0.3137255 ]]],\n",
              "\n",
              "\n",
              "       ...,\n",
              "\n",
              "\n",
              "       [[[-0.3137255 ],\n",
              "         [-0.3137255 ],\n",
              "         [-0.3137255 ],\n",
              "         ...,\n",
              "         [-0.3137255 ],\n",
              "         [-0.3137255 ],\n",
              "         [-0.3137255 ]],\n",
              "\n",
              "        [[-0.3137255 ],\n",
              "         [-0.3137255 ],\n",
              "         [-0.3137255 ],\n",
              "         ...,\n",
              "         [-0.3137255 ],\n",
              "         [-0.3137255 ],\n",
              "         [-0.3137255 ]],\n",
              "\n",
              "        [[-0.3137255 ],\n",
              "         [-0.3137255 ],\n",
              "         [-0.3137255 ],\n",
              "         ...,\n",
              "         [-0.3137255 ],\n",
              "         [-0.3137255 ],\n",
              "         [-0.3137255 ]],\n",
              "\n",
              "        ...,\n",
              "\n",
              "        [[-0.3137255 ],\n",
              "         [-0.3137255 ],\n",
              "         [-0.3137255 ],\n",
              "         ...,\n",
              "         [-0.3137255 ],\n",
              "         [-0.3137255 ],\n",
              "         [-0.3137255 ]],\n",
              "\n",
              "        [[-0.3137255 ],\n",
              "         [-0.3137255 ],\n",
              "         [-0.3137255 ],\n",
              "         ...,\n",
              "         [-0.3137255 ],\n",
              "         [-0.3137255 ],\n",
              "         [-0.3137255 ]],\n",
              "\n",
              "        [[-0.3137255 ],\n",
              "         [-0.3137255 ],\n",
              "         [-0.3137255 ],\n",
              "         ...,\n",
              "         [-0.3137255 ],\n",
              "         [-0.3137255 ],\n",
              "         [-0.3137255 ]]],\n",
              "\n",
              "\n",
              "       [[[-0.16727751],\n",
              "         [-0.20118693],\n",
              "         [-0.19477795],\n",
              "         ...,\n",
              "         [-0.22139156],\n",
              "         [-0.20063722],\n",
              "         [-0.1790179 ]],\n",
              "\n",
              "        [[-0.17142989],\n",
              "         [-0.19069791],\n",
              "         [-0.17435803],\n",
              "         ...,\n",
              "         [-0.23043302],\n",
              "         [-0.19683352],\n",
              "         [-0.1851667 ]],\n",
              "\n",
              "        [[-0.17610289],\n",
              "         [-0.20534456],\n",
              "         [-0.17098184],\n",
              "         ...,\n",
              "         [-0.20943864],\n",
              "         [-0.21621597],\n",
              "         [-0.18809873]],\n",
              "\n",
              "        ...,\n",
              "\n",
              "        [[-0.3137255 ],\n",
              "         [-0.3137255 ],\n",
              "         [-0.3137255 ],\n",
              "         ...,\n",
              "         [-0.3137255 ],\n",
              "         [-0.3137255 ],\n",
              "         [-0.3137255 ]],\n",
              "\n",
              "        [[-0.3137255 ],\n",
              "         [-0.3137255 ],\n",
              "         [-0.3137255 ],\n",
              "         ...,\n",
              "         [-0.3137255 ],\n",
              "         [-0.3137255 ],\n",
              "         [-0.3137255 ]],\n",
              "\n",
              "        [[-0.3137255 ],\n",
              "         [-0.3137255 ],\n",
              "         [-0.3137255 ],\n",
              "         ...,\n",
              "         [-0.3137255 ],\n",
              "         [-0.3137255 ],\n",
              "         [-0.3137255 ]]],\n",
              "\n",
              "\n",
              "       [[[-0.18371685],\n",
              "         [-0.2076459 ],\n",
              "         [-0.17208822],\n",
              "         ...,\n",
              "         [-0.26806834],\n",
              "         [-0.24537113],\n",
              "         [-0.24274108]],\n",
              "\n",
              "        [[-0.20298383],\n",
              "         [-0.20436525],\n",
              "         [-0.17216207],\n",
              "         ...,\n",
              "         [-0.2183648 ],\n",
              "         [-0.20365244],\n",
              "         [-0.21575819]],\n",
              "\n",
              "        [[-0.19281405],\n",
              "         [-0.17635901],\n",
              "         [-0.1770925 ],\n",
              "         ...,\n",
              "         [-0.17199312],\n",
              "         [-0.15899922],\n",
              "         [-0.17696346]],\n",
              "\n",
              "        ...,\n",
              "\n",
              "        [[-0.2996164 ],\n",
              "         [-0.3137255 ],\n",
              "         [-0.3137255 ],\n",
              "         ...,\n",
              "         [-0.3137255 ],\n",
              "         [-0.3137255 ],\n",
              "         [-0.3137255 ]],\n",
              "\n",
              "        [[-0.29983404],\n",
              "         [-0.3137255 ],\n",
              "         [-0.3137255 ],\n",
              "         ...,\n",
              "         [-0.3137255 ],\n",
              "         [-0.3137255 ],\n",
              "         [-0.3137255 ]],\n",
              "\n",
              "        [[-0.29997453],\n",
              "         [-0.3137255 ],\n",
              "         [-0.3137255 ],\n",
              "         ...,\n",
              "         [-0.3137255 ],\n",
              "         [-0.3137255 ],\n",
              "         [-0.3137255 ]]]], dtype=float32)"
            ]
          },
          "metadata": {},
          "execution_count": 8
        }
      ],
      "source": [
        "X_train"
      ]
    },
    {
      "cell_type": "code",
      "execution_count": null,
      "metadata": {
        "colab": {
          "base_uri": "https://localhost:8080/"
        },
        "id": "d4hqNT8LibFK",
        "outputId": "0bb4a783-5c69-4b7f-e130-84f27333dd46"
      },
      "outputs": [
        {
          "output_type": "stream",
          "name": "stdout",
          "text": [
            "Epoch 1/23\n",
            "\u001b[1m29/29\u001b[0m \u001b[32m━━━━━━━━━━━━━━━━━━━━\u001b[0m\u001b[37m\u001b[0m \u001b[1m12s\u001b[0m 413ms/step - accuracy: 0.9268 - loss: 0.4074 - val_accuracy: 0.8152 - val_loss: 0.6818\n",
            "Epoch 2/23\n",
            "\u001b[1m29/29\u001b[0m \u001b[32m━━━━━━━━━━━━━━━━━━━━\u001b[0m\u001b[37m\u001b[0m \u001b[1m20s\u001b[0m 376ms/step - accuracy: 0.8963 - loss: 0.2996 - val_accuracy: 0.8478 - val_loss: 0.4790\n",
            "Epoch 3/23\n",
            "\u001b[1m29/29\u001b[0m \u001b[32m━━━━━━━━━━━━━━━━━━━━\u001b[0m\u001b[37m\u001b[0m \u001b[1m22s\u001b[0m 429ms/step - accuracy: 0.9568 - loss: 0.1608 - val_accuracy: 0.9348 - val_loss: 0.1629\n",
            "Epoch 4/23\n",
            "\u001b[1m29/29\u001b[0m \u001b[32m━━━━━━━━━━━━━━━━━━━━\u001b[0m\u001b[37m\u001b[0m \u001b[1m20s\u001b[0m 424ms/step - accuracy: 0.9863 - loss: 0.0435 - val_accuracy: 0.9891 - val_loss: 0.0678\n",
            "Epoch 5/23\n",
            "\u001b[1m29/29\u001b[0m \u001b[32m━━━━━━━━━━━━━━━━━━━━\u001b[0m\u001b[37m\u001b[0m \u001b[1m19s\u001b[0m 379ms/step - accuracy: 0.9964 - loss: 0.0236 - val_accuracy: 1.0000 - val_loss: 0.0180\n",
            "Epoch 6/23\n",
            "\u001b[1m29/29\u001b[0m \u001b[32m━━━━━━━━━━━━━━━━━━━━\u001b[0m\u001b[37m\u001b[0m \u001b[1m22s\u001b[0m 428ms/step - accuracy: 1.0000 - loss: 0.0074 - val_accuracy: 1.0000 - val_loss: 0.0102\n",
            "Epoch 7/23\n",
            "\u001b[1m29/29\u001b[0m \u001b[32m━━━━━━━━━━━━━━━━━━━━\u001b[0m\u001b[37m\u001b[0m \u001b[1m12s\u001b[0m 421ms/step - accuracy: 1.0000 - loss: 0.0051 - val_accuracy: 1.0000 - val_loss: 0.0057\n",
            "Epoch 8/23\n",
            "\u001b[1m29/29\u001b[0m \u001b[32m━━━━━━━━━━━━━━━━━━━━\u001b[0m\u001b[37m\u001b[0m \u001b[1m20s\u001b[0m 419ms/step - accuracy: 1.0000 - loss: 0.0027 - val_accuracy: 1.0000 - val_loss: 0.0044\n",
            "Epoch 9/23\n",
            "\u001b[1m29/29\u001b[0m \u001b[32m━━━━━━━━━━━━━━━━━━━━\u001b[0m\u001b[37m\u001b[0m \u001b[1m12s\u001b[0m 428ms/step - accuracy: 1.0000 - loss: 0.0026 - val_accuracy: 1.0000 - val_loss: 0.0037\n",
            "Epoch 10/23\n",
            "\u001b[1m29/29\u001b[0m \u001b[32m━━━━━━━━━━━━━━━━━━━━\u001b[0m\u001b[37m\u001b[0m \u001b[1m20s\u001b[0m 415ms/step - accuracy: 1.0000 - loss: 0.0024 - val_accuracy: 1.0000 - val_loss: 0.0028\n",
            "Epoch 11/23\n",
            "\u001b[1m29/29\u001b[0m \u001b[32m━━━━━━━━━━━━━━━━━━━━\u001b[0m\u001b[37m\u001b[0m \u001b[1m20s\u001b[0m 413ms/step - accuracy: 1.0000 - loss: 0.0013 - val_accuracy: 1.0000 - val_loss: 0.0024\n",
            "Epoch 12/23\n",
            "\u001b[1m29/29\u001b[0m \u001b[32m━━━━━━━━━━━━━━━━━━━━\u001b[0m\u001b[37m\u001b[0m \u001b[1m21s\u001b[0m 425ms/step - accuracy: 1.0000 - loss: 0.0012 - val_accuracy: 1.0000 - val_loss: 0.0021\n",
            "Epoch 13/23\n",
            "\u001b[1m29/29\u001b[0m \u001b[32m━━━━━━━━━━━━━━━━━━━━\u001b[0m\u001b[37m\u001b[0m \u001b[1m20s\u001b[0m 423ms/step - accuracy: 1.0000 - loss: 0.0013 - val_accuracy: 1.0000 - val_loss: 0.0018\n",
            "Epoch 14/23\n",
            "\u001b[1m29/29\u001b[0m \u001b[32m━━━━━━━━━━━━━━━━━━━━\u001b[0m\u001b[37m\u001b[0m \u001b[1m20s\u001b[0m 422ms/step - accuracy: 1.0000 - loss: 0.0010 - val_accuracy: 1.0000 - val_loss: 0.0015\n",
            "Epoch 15/23\n",
            "\u001b[1m29/29\u001b[0m \u001b[32m━━━━━━━━━━━━━━━━━━━━\u001b[0m\u001b[37m\u001b[0m \u001b[1m12s\u001b[0m 421ms/step - accuracy: 1.0000 - loss: 7.9629e-04 - val_accuracy: 1.0000 - val_loss: 0.0014\n",
            "Epoch 16/23\n",
            "\u001b[1m29/29\u001b[0m \u001b[32m━━━━━━━━━━━━━━━━━━━━\u001b[0m\u001b[37m\u001b[0m \u001b[1m21s\u001b[0m 419ms/step - accuracy: 1.0000 - loss: 6.7885e-04 - val_accuracy: 1.0000 - val_loss: 0.0013\n",
            "Epoch 17/23\n",
            "\u001b[1m29/29\u001b[0m \u001b[32m━━━━━━━━━━━━━━━━━━━━\u001b[0m\u001b[37m\u001b[0m \u001b[1m23s\u001b[0m 505ms/step - accuracy: 1.0000 - loss: 7.0185e-04 - val_accuracy: 1.0000 - val_loss: 0.0011\n",
            "Epoch 18/23\n",
            "\u001b[1m29/29\u001b[0m \u001b[32m━━━━━━━━━━━━━━━━━━━━\u001b[0m\u001b[37m\u001b[0m \u001b[1m12s\u001b[0m 431ms/step - accuracy: 1.0000 - loss: 5.7987e-04 - val_accuracy: 1.0000 - val_loss: 9.9209e-04\n",
            "Epoch 19/23\n",
            "\u001b[1m29/29\u001b[0m \u001b[32m━━━━━━━━━━━━━━━━━━━━\u001b[0m\u001b[37m\u001b[0m \u001b[1m20s\u001b[0m 423ms/step - accuracy: 1.0000 - loss: 5.8664e-04 - val_accuracy: 1.0000 - val_loss: 9.1962e-04\n",
            "Epoch 20/23\n",
            "\u001b[1m29/29\u001b[0m \u001b[32m━━━━━━━━━━━━━━━━━━━━\u001b[0m\u001b[37m\u001b[0m \u001b[1m20s\u001b[0m 413ms/step - accuracy: 1.0000 - loss: 5.4434e-04 - val_accuracy: 1.0000 - val_loss: 8.3384e-04\n",
            "Epoch 21/23\n",
            "\u001b[1m29/29\u001b[0m \u001b[32m━━━━━━━━━━━━━━━━━━━━\u001b[0m\u001b[37m\u001b[0m \u001b[1m21s\u001b[0m 418ms/step - accuracy: 1.0000 - loss: 4.8702e-04 - val_accuracy: 1.0000 - val_loss: 7.7367e-04\n",
            "Epoch 22/23\n",
            "\u001b[1m29/29\u001b[0m \u001b[32m━━━━━━━━━━━━━━━━━━━━\u001b[0m\u001b[37m\u001b[0m \u001b[1m23s\u001b[0m 477ms/step - accuracy: 1.0000 - loss: 4.5348e-04 - val_accuracy: 1.0000 - val_loss: 6.7926e-04\n",
            "Epoch 23/23\n",
            "\u001b[1m29/29\u001b[0m \u001b[32m━━━━━━━━━━━━━━━━━━━━\u001b[0m\u001b[37m\u001b[0m \u001b[1m12s\u001b[0m 408ms/step - accuracy: 1.0000 - loss: 3.8445e-04 - val_accuracy: 1.0000 - val_loss: 6.3230e-04\n"
          ]
        }
      ],
      "source": [
        "history = model.fit(X, y, epochs=23, batch_size=16, validation_data=(X_val, y_val))\n"
      ]
    },
    {
      "cell_type": "code",
      "execution_count": null,
      "metadata": {
        "colab": {
          "base_uri": "https://localhost:8080/"
        },
        "id": "n_1Pcjbyif8M",
        "outputId": "98d3dbdb-f931-4d87-8bc6-bd5f56883f27"
      },
      "outputs": [
        {
          "output_type": "stream",
          "name": "stdout",
          "text": [
            "\u001b[1m3/3\u001b[0m \u001b[32m━━━━━━━━━━━━━━━━━━━━\u001b[0m\u001b[37m\u001b[0m \u001b[1m1s\u001b[0m 194ms/step\n"
          ]
        }
      ],
      "source": [
        "prediction = model.predict(X_val)"
      ]
    },
    {
      "cell_type": "code",
      "execution_count": null,
      "metadata": {
        "colab": {
          "base_uri": "https://localhost:8080/"
        },
        "id": "BhQMOQGykT8j",
        "outputId": "493df966-b545-468a-b894-7c4569bff26c"
      },
      "outputs": [
        {
          "output_type": "execute_result",
          "data": {
            "text/plain": [
              "array([7.0847364e-06, 1.1101907e-08, 9.9995595e-01, 3.6438800e-05,\n",
              "       3.2179736e-07], dtype=float32)"
            ]
          },
          "metadata": {},
          "execution_count": 17
        }
      ],
      "source": [
        "prediction[0]"
      ]
    },
    {
      "cell_type": "code",
      "execution_count": null,
      "metadata": {
        "colab": {
          "base_uri": "https://localhost:8080/"
        },
        "id": "q7wFojevkZqx",
        "outputId": "afc78a36-0d22-4165-8005-927d31e1a7a3"
      },
      "outputs": [
        {
          "output_type": "stream",
          "name": "stdout",
          "text": [
            "4\n",
            "\u001b[1m1/1\u001b[0m \u001b[32m━━━━━━━━━━━━━━━━━━━━\u001b[0m\u001b[37m\u001b[0m \u001b[1m0s\u001b[0m 62ms/step\n",
            "Azka is Probably: hungry\n"
          ]
        }
      ],
      "source": [
        "test_audio_path = \"azka_cry.wav\"\n",
        "test_spectrogram = audio_to_spectrogram(test_audio_path)\n",
        "test_spectrogram = test_spectrogram.reshape(1, 128, 128, 1) / 255.0  # Normalize\n",
        "print(test_spectrogram.ndim)\n",
        "\n",
        "prediction = model.predict(test_spectrogram)\n",
        "predicted_class = categories[np.argmax(prediction)]\n",
        "\n",
        "print(f\"Azka is Probably: {predicted_class}\")\n"
      ]
    },
    {
      "cell_type": "code",
      "execution_count": null,
      "metadata": {
        "colab": {
          "base_uri": "https://localhost:8080/"
        },
        "id": "6bfblB6bkr-u",
        "outputId": "f6247453-c637-4116-eda4-3b623eec3362"
      },
      "outputs": [
        {
          "output_type": "stream",
          "name": "stderr",
          "text": [
            "WARNING:absl:You are saving your model as an HDF5 file via `model.save()` or `keras.saving.save_model(model)`. This file format is considered legacy. We recommend using instead the native Keras format, e.g. `model.save('my_model.keras')` or `keras.saving.save_model(model, 'my_model.keras')`. \n"
          ]
        }
      ],
      "source": [
        "model.save(\"babyCryClassifier.h5\")"
      ]
    },
    {
      "cell_type": "code",
      "execution_count": null,
      "metadata": {
        "id": "Bj7882Xfo21m",
        "colab": {
          "base_uri": "https://localhost:8080/"
        },
        "outputId": "f72ec4a9-1afe-410c-fc39-6e448de242fb"
      },
      "outputs": [
        {
          "output_type": "stream",
          "name": "stderr",
          "text": [
            "WARNING:absl:Compiled the loaded model, but the compiled metrics have yet to be built. `model.compile_metrics` will be empty until you train or evaluate the model.\n"
          ]
        }
      ],
      "source": [
        "from keras.models import load_model\n",
        "model = load_model('babyCryClassifier.h5')"
      ]
    },
    {
      "cell_type": "code",
      "source": [
        "test_audio_path = \"1309B82C-F146-46F0-A723-45345AFA6EA8-1431172241-1.0-f-48-ti.wav\"\n",
        "test_spectrogram = audio_to_spectrogram(test_audio_path)\n",
        "test_spectrogram = test_spectrogram.reshape(1, 128, 128, 1) / 255.0\n",
        "print(test_spectrogram.ndim)\n",
        "categories = [\"belly_pain\", \"burping\", \"hungry\", \"discomfort\",\"tired\"]\n",
        "\n",
        "\n",
        "\n",
        "prediction = model.predict(test_spectrogram)\n",
        "predicted_class = categories[np.argmax(prediction)]\n",
        "\n",
        "print(f\"Azka is Probably: {predicted_class}\")"
      ],
      "metadata": {
        "colab": {
          "base_uri": "https://localhost:8080/"
        },
        "id": "8P6ClWNZO291",
        "outputId": "90df7f55-548b-43d6-9910-2156c7a94983"
      },
      "execution_count": null,
      "outputs": [
        {
          "output_type": "stream",
          "name": "stdout",
          "text": [
            "4\n",
            "\u001b[1m1/1\u001b[0m \u001b[32m━━━━━━━━━━━━━━━━━━━━\u001b[0m\u001b[37m\u001b[0m \u001b[1m0s\u001b[0m 65ms/step\n",
            "Azka is Probably: tired\n"
          ]
        }
      ]
    },
    {
      "cell_type": "code",
      "source": [
        "from langchain_groq import ChatGroq\n",
        "llm = ChatGroq(\n",
        "    temperature = 0.2,\n",
        "    groq_api_key=\"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\",\n",
        "    model_name = \"llama-3.3-70b-versatile\"\n",
        ")\n",
        "# llm.invoke(\"he\")"
      ],
      "metadata": {
        "id": "mbrJxLA8O6kd",
        "colab": {
          "base_uri": "https://localhost:8080/"
        },
        "outputId": "a599afb7-855a-4fd0-9273-cc409c2cae68"
      },
      "execution_count": null,
      "outputs": [
        {
          "output_type": "execute_result",
          "data": {
            "text/plain": [
              "AIMessage(content=\"It looks like you started to type something, but it got cut off. Could you please complete your thought? I'm here to help with any questions or topics you'd like to discuss.\", additional_kwargs={}, response_metadata={'token_usage': {'completion_tokens': 39, 'prompt_tokens': 36, 'total_tokens': 75, 'completion_time': 0.141818182, 'prompt_time': 0.004436474, 'queue_time': 0.23170617100000002, 'total_time': 0.146254656}, 'model_name': 'llama-3.3-70b-versatile', 'system_fingerprint': 'fp_5d5eebccf4', 'finish_reason': 'stop', 'logprobs': None}, id='run-742932c6-7f10-4214-9faa-622b505262ae-0', usage_metadata={'input_tokens': 36, 'output_tokens': 39, 'total_tokens': 75})"
            ]
          },
          "metadata": {},
          "execution_count": 2
        }
      ]
    },
    {
      "cell_type": "code",
      "source": [
        "from langchain.prompts import PromptTemplate\n",
        "promptScrape = PromptTemplate.from_template(\n",
        "    f\"\"\"\n",
        "##You are an expert in child health and you are here to help parents\n",
        "give complete explanation baby is crying due to {predicted_class}\n",
        "now give parents complete details why this is happening and how to tackle it basis on {predicted_class} just be short and consise\n",
        "\n",
        "#FORMAT\n",
        "Our model which is developed by Hamza predicted that audio that you uploaded belongs to class {predicted_class} and baby is crying due to {predicted_class} and reason can be .......\n",
        "\n",
        "#INSTRUCTION\n",
        "write in paragraphs short and consise\n",
        "\"\"\"\n",
        ")\n",
        "chainScrape = promptScrape | llm\n",
        "res = chainScrape.invoke(input={'page_data':predicted_class})\n",
        "print(res.content)"
      ],
      "metadata": {
        "colab": {
          "base_uri": "https://localhost:8080/"
        },
        "id": "Y3rBb7jpQMdx",
        "outputId": "9c667d80-4b65-4550-9a09-fadb25077f16"
      },
      "execution_count": null,
      "outputs": [
        {
          "output_type": "stream",
          "name": "stdout",
          "text": [
            "Our model, which is developed by Hamza, predicted that the audio that you uploaded belongs to class \"tired and baby is crying due to tired\" and the reason can be that the baby has been overstimulated or has been awake for an extended period. This can lead to the baby feeling exhausted, both physically and mentally, resulting in tears and fussiness.\n",
            "\n",
            "When a baby is tired, they may have difficulty self-soothing and calming down, leading to increased crying. This can be due to various factors such as a busy day with too many activities, not enough sleep, or an inconsistent sleep schedule. As a parent, it's essential to recognize the signs of tiredness in your baby, such as yawning, rubbing their eyes, or becoming less active.\n",
            "\n",
            "To tackle this issue, parents can try establishing a consistent sleep routine, ensuring the baby's sleep environment is comfortable and quiet, and watching for sleepy cues to put the baby to bed before they become overtired. A warm bath, a gentle massage, or a soothing lullaby can also help calm the baby and promote relaxation. By being attentive to the baby's needs and providing a nurturing environment, parents can help their little one feel more secure and relaxed, reducing the likelihood of tiredness-induced crying.\n"
          ]
        }
      ]
    },
    {
      "cell_type": "code",
      "source": [
        "print(res.content)"
      ],
      "metadata": {
        "colab": {
          "base_uri": "https://localhost:8080/"
        },
        "id": "Z5ySuDF3R0Ie",
        "outputId": "4de42f75-0a82-4b56-d400-e4ad2b81950e"
      },
      "execution_count": null,
      "outputs": [
        {
          "output_type": "stream",
          "name": "stdout",
          "text": [
            "Our AI model developed by Hamza Ali predicted that the audio you uploaded belongs to class hungry and baby is crying due to hungry. The reason can be that the baby's stomach is empty, and they are seeking nourishment. Babies cry to communicate their needs, and hunger is one of the most basic and essential needs. When a baby's hunger is not satisfied, they may become fussy, irritable, and cry to signal that they need to be fed.\n",
            "\n",
            "The crying can be due to several reasons related to hunger, such as a missed feeding, a decrease in milk supply, or the baby's growing appetite. Sometimes, babies may cry if they are having trouble latching or if the flow of milk is too slow. It's essential for parents to recognize the signs of hunger, such as rooting reflex, sucking on hands or objects, and fussing, to address the baby's needs promptly. By responding to the baby's cries and feeding them when they are hungry, parents can help establish a sense of trust and security, which is vital for the baby's emotional and physical development.\n",
            "\n",
            "To tackle a hungry baby's crying, parents can try checking if the baby is due for a feeding, offering a pacifier or letting the baby suck on their thumb to calm them down, and ensuring a proper latching technique during breastfeeding. If the baby is bottle-fed, parents can try burping the baby, checking the nipple flow, and adjusting the feeding schedule as needed. By being attentive to the baby's cries and responding to their needs, parents can help soothe and comfort their baby, reducing the crying and promoting a sense of calm and satisfaction.\n"
          ]
        }
      ]
    },
    {
      "cell_type": "code",
      "source": [
        "predicted_class"
      ],
      "metadata": {
        "colab": {
          "base_uri": "https://localhost:8080/",
          "height": 35
        },
        "id": "f-0uHiX8R3Ak",
        "outputId": "ae167219-e58a-4097-92be-b59f720d4c87"
      },
      "execution_count": null,
      "outputs": [
        {
          "output_type": "execute_result",
          "data": {
            "text/plain": [
              "'hungry'"
            ],
            "application/vnd.google.colaboratory.intrinsic+json": {
              "type": "string"
            }
          },
          "metadata": {},
          "execution_count": 27
        }
      ]
    },
    {
      "cell_type": "code",
      "source": [
        "# Import the required module for text\n",
        "# to speech conversion\n",
        "!pip install gTTS\n",
        "from gtts import gTTS\n",
        "\n",
        "# This module is imported so that we can\n",
        "# play the converted audio\n",
        "import os\n",
        "\n",
        "# The text that you want to convert to audio\n",
        "mytext = res.content\n",
        "\n",
        "# Language in which you want to convert\n",
        "language = 'en'\n",
        "\n",
        "# Passing the text and language to the engine,\n",
        "# here we have marked slow=False. Which tells\n",
        "# the module that the converted audio should\n",
        "# have a high speed\n",
        "myobj = gTTS(text=mytext, lang=language,tld='ie', slow=False)\n",
        "\n",
        "# Saving the converted audio in a mp3 file named\n",
        "# welcome\n",
        "myobj.save(\"welcome.mp3\")\n",
        "\n",
        "# Playing the converted file\n",
        "os.system(\"start welcome.mp3\")\n"
      ],
      "metadata": {
        "colab": {
          "base_uri": "https://localhost:8080/"
        },
        "id": "AY5uVqLjSYW5",
        "outputId": "b0cfd0b4-ac7e-4e73-8878-1789906739ea"
      },
      "execution_count": null,
      "outputs": [
        {
          "output_type": "stream",
          "name": "stdout",
          "text": [
            "Requirement already satisfied: gTTS in /usr/local/lib/python3.11/dist-packages (2.5.4)\n",
            "Requirement already satisfied: requests<3,>=2.27 in /usr/local/lib/python3.11/dist-packages (from gTTS) (2.32.3)\n",
            "Requirement already satisfied: click<8.2,>=7.1 in /usr/local/lib/python3.11/dist-packages (from gTTS) (8.1.8)\n",
            "Requirement already satisfied: charset-normalizer<4,>=2 in /usr/local/lib/python3.11/dist-packages (from requests<3,>=2.27->gTTS) (3.4.1)\n",
            "Requirement already satisfied: idna<4,>=2.5 in /usr/local/lib/python3.11/dist-packages (from requests<3,>=2.27->gTTS) (3.10)\n",
            "Requirement already satisfied: urllib3<3,>=1.21.1 in /usr/local/lib/python3.11/dist-packages (from requests<3,>=2.27->gTTS) (2.3.0)\n",
            "Requirement already satisfied: certifi>=2017.4.17 in /usr/local/lib/python3.11/dist-packages (from requests<3,>=2.27->gTTS) (2025.1.31)\n"
          ]
        },
        {
          "output_type": "execute_result",
          "data": {
            "text/plain": [
              "32512"
            ]
          },
          "metadata": {},
          "execution_count": 37
        }
      ]
    },
    {
      "cell_type": "code",
      "source": [],
      "metadata": {
        "colab": {
          "base_uri": "https://localhost:8080/"
        },
        "id": "Gvb0MYbIUb4X",
        "outputId": "925011d1-8efc-43f8-eaf5-a6d2537e15c2"
      },
      "execution_count": null,
      "outputs": [
        {
          "output_type": "stream",
          "name": "stdout",
          "text": [
            "Requirement already satisfied: gTTS in /usr/local/lib/python3.11/dist-packages (2.5.4)\n",
            "Requirement already satisfied: requests<3,>=2.27 in /usr/local/lib/python3.11/dist-packages (from gTTS) (2.32.3)\n",
            "Requirement already satisfied: click<8.2,>=7.1 in /usr/local/lib/python3.11/dist-packages (from gTTS) (8.1.8)\n",
            "Requirement already satisfied: charset-normalizer<4,>=2 in /usr/local/lib/python3.11/dist-packages (from requests<3,>=2.27->gTTS) (3.4.1)\n",
            "Requirement already satisfied: idna<4,>=2.5 in /usr/local/lib/python3.11/dist-packages (from requests<3,>=2.27->gTTS) (3.10)\n",
            "Requirement already satisfied: urllib3<3,>=1.21.1 in /usr/local/lib/python3.11/dist-packages (from requests<3,>=2.27->gTTS) (2.3.0)\n",
            "Requirement already satisfied: certifi>=2017.4.17 in /usr/local/lib/python3.11/dist-packages (from requests<3,>=2.27->gTTS) (2025.1.31)\n"
          ]
        },
        {
          "output_type": "execute_result",
          "data": {
            "text/plain": [
              "32512"
            ]
          },
          "metadata": {},
          "execution_count": 38
        }
      ]
    },
    {
      "cell_type": "code",
      "source": [
        "rawCss = \"\"\"\n",
        ".heroSection{{\n",
        "  background-color: #333;\n",
        "  color: #fff;\n",
        "  padding: 20px;\n",
        "  text-align: center;\n",
        "  font-size: 24px;\n",
        "  font-weight: bold;\n",
        "}}\n",
        "\"\"\""
      ],
      "metadata": {
        "id": "SywFirtGXvy9"
      },
      "execution_count": null,
      "outputs": []
    },
    {
      "cell_type": "code",
      "source": [
        "from langchain.prompts import PromptTemplate\n",
        "promptScrape = PromptTemplate.from_template(\n",
        "    f\"\"\"\n",
        "    You are a Expert UX/UI designer and you will helping developers to style their Css\n",
        "    ROLE: your role is to basically convert your css to tailwind form accordingly same functionality as css but in tailwind\n",
        "    INPUT: {rawCss}\n",
        "    #INSTRUCTION\n",
        "    - GIVE ME JUST TAILWIND CODE IN HTML CLASS NO PREAMBLE\n",
        "    \"\"\"\n",
        ")\n",
        "chainScrape = promptScrape | llm\n",
        "res = chainScrape.invoke(input={'page_data':rawCss})\n",
        "print(res.content)"
      ],
      "metadata": {
        "colab": {
          "base_uri": "https://localhost:8080/"
        },
        "id": "t3qn0i7VoBhM",
        "outputId": "529c6773-a20b-49cd-86d2-29d64d1eb905"
      },
      "execution_count": null,
      "outputs": [
        {
          "output_type": "stream",
          "name": "stdout",
          "text": [
            "class=\"bg-gray-800 text-white p-5 text-center text-2xl font-bold\"\n"
          ]
        }
      ]
    },
    {
      "cell_type": "code",
      "source": [],
      "metadata": {
        "id": "SAjocqvloWPL"
      },
      "execution_count": null,
      "outputs": []
    }
  ],
  "metadata": {
    "colab": {
      "provenance": []
    },
    "kernelspec": {
      "display_name": "Python 3",
      "name": "python3"
    },
    "language_info": {
      "name": "python"
    }
  },
  "nbformat": 4,
  "nbformat_minor": 0
}